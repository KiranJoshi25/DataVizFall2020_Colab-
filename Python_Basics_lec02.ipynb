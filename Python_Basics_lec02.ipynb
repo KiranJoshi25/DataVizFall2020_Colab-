{
  "nbformat": 4,
  "nbformat_minor": 0,
  "metadata": {
    "colab": {
      "name": "Python_Basics_lec02.ipynb",
      "provenance": [],
      "authorship_tag": "ABX9TyOt61EiNOPbPYAmXF/fACga",
      "include_colab_link": true
    },
    "kernelspec": {
      "name": "python3",
      "display_name": "Python 3"
    }
  },
  "cells": [
    {
      "cell_type": "markdown",
      "metadata": {
        "id": "view-in-github",
        "colab_type": "text"
      },
      "source": [
        "<a href=\"https://colab.research.google.com/github/KiranJoshi25/DataVizFall2020_Colab-/blob/master/Python_Basics_lec02.ipynb\" target=\"_parent\"><img src=\"https://colab.research.google.com/assets/colab-badge.svg\" alt=\"Open In Colab\"/></a>"
      ]
    },
    {
      "cell_type": "markdown",
      "metadata": {
        "id": "WdePvMkQ922s",
        "colab_type": "text"
      },
      "source": [
        "I am Kiran Joshi"
      ]
    },
    {
      "cell_type": "markdown",
      "metadata": {
        "id": "8XvNR2zr96J5",
        "colab_type": "text"
      },
      "source": [
        ""
      ]
    },
    {
      "cell_type": "code",
      "metadata": {
        "id": "JbB8ZG9s_BYa",
        "colab_type": "code",
        "colab": {
          "base_uri": "https://localhost:8080/",
          "height": 34
        },
        "outputId": "d95d87b5-c6fb-46d3-88a9-b99b344a823c"
      },
      "source": [
        "print(\"hello World\")"
      ],
      "execution_count": null,
      "outputs": [
        {
          "output_type": "stream",
          "text": [
            "hello World\n"
          ],
          "name": "stdout"
        }
      ]
    },
    {
      "cell_type": "code",
      "metadata": {
        "id": "jcycSs1b_HSR",
        "colab_type": "code",
        "colab": {}
      },
      "source": [
        "strVar = \"This is string.\"\n",
        "longestVar = \"\"\" this is multiline string\n",
        "this is line one \n",
        "this is line two\n",
        "this is line three\n",
        "\"\"\"\n",
        "Intvar = 2020\n",
        "RealNumberVar = 2.203328\n",
        "BoolVar = True\n",
        "SimpleListObj = [strVar,Intvar,RealNumberVar,BoolVar,[1,2,3]]\n",
        "SimpleTupleObj=('This',\"is\",\"Tuple\",\"example\",\"!\")\n",
        "SimpleDictionaryObj = {0:100,\n",
        "                       '1':222,\n",
        "                       'A200':200,\n",
        "                       (1,2,3,4,5):\"Value is string Key is Tuple\"}\n",
        "SimpleSetObj = set([1,1,2,2,3,3,4,4,5,5,6,6,7,5,8,8])\n"
      ],
      "execution_count": 7,
      "outputs": []
    },
    {
      "cell_type": "code",
      "metadata": {
        "id": "wNJdMyqRKptc",
        "colab_type": "code",
        "colab": {}
      },
      "source": [
        ""
      ],
      "execution_count": 3,
      "outputs": []
    },
    {
      "cell_type": "code",
      "metadata": {
        "id": "qEE8dmff62P5",
        "colab_type": "code",
        "colab": {
          "base_uri": "https://localhost:8080/",
          "height": 151
        },
        "outputId": "c05b30f2-dd36-4241-ed0f-cbe208dde891"
      },
      "source": [
        "print(strVar)\n",
        "print(Intvar)\n",
        "print(RealNumberVar)\n",
        "print(BoolVar)\n",
        "print(SimpleListObj)\n",
        "print(SimpleTupleObj)\n",
        "print(SimpleDictionaryObj)\n",
        "print(SimpleSetObj)"
      ],
      "execution_count": 13,
      "outputs": [
        {
          "output_type": "stream",
          "text": [
            "This is string.\n",
            "2020\n",
            "2.203328\n",
            "True\n",
            "['This is string.', 2020, 2.203328, True, [1, 2, 3]]\n",
            "('This', 'is', 'Tuple', 'example', '!')\n",
            "{0: 100, '1': 222, 'A200': 200, (1, 2, 3, 4, 5): 'Value is string Key is Tuple'}\n",
            "{1, 2, 3, 4, 5, 6, 7, 8}\n"
          ],
          "name": "stdout"
        }
      ]
    },
    {
      "cell_type": "code",
      "metadata": {
        "id": "_ey0gUxjKrbg",
        "colab_type": "code",
        "colab": {
          "base_uri": "https://localhost:8080/",
          "height": 50
        },
        "outputId": "4e922fb9-9ad1-4083-d9e1-4ea8ae71575a"
      },
      "source": [
        "List1 =[1,2,3]\n",
        "List2 =[1,2,3]\n",
        "print(id(List1))\n",
        "print(id(List2))"
      ],
      "execution_count": 14,
      "outputs": [
        {
          "output_type": "stream",
          "text": [
            "139989346613512\n",
            "139989169944200\n"
          ],
          "name": "stdout"
        }
      ]
    },
    {
      "cell_type": "code",
      "metadata": {
        "id": "YhWJcGEFLx4v",
        "colab_type": "code",
        "colab": {
          "base_uri": "https://localhost:8080/",
          "height": 50
        },
        "outputId": "99fd2496-55d1-4e2f-8c9c-9a7a0d2321dc"
      },
      "source": [
        "List1 = List2\n",
        "print(id(List1))\n",
        "print(id(List2))"
      ],
      "execution_count": 15,
      "outputs": [
        {
          "output_type": "stream",
          "text": [
            "139989169944200\n",
            "139989169944200\n"
          ],
          "name": "stdout"
        }
      ]
    },
    {
      "cell_type": "code",
      "metadata": {
        "id": "3c4Jm75ZL4Jk",
        "colab_type": "code",
        "colab": {
          "base_uri": "https://localhost:8080/",
          "height": 34
        },
        "outputId": "693d08ce-62ae-495b-d6ac-2f10debe063f"
      },
      "source": [
        "A = 2 \n",
        "B = 1\n",
        "if(A>B):\n",
        "  print(\"A>B\")\n",
        "elif(A<B):\n",
        "  print(\"A<B\")\n",
        "else:\n",
        "  print(\"A==B\")  "
      ],
      "execution_count": 17,
      "outputs": [
        {
          "output_type": "stream",
          "text": [
            "A>B\n"
          ],
          "name": "stdout"
        }
      ]
    },
    {
      "cell_type": "code",
      "metadata": {
        "id": "beY3-W4-MJIq",
        "colab_type": "code",
        "colab": {
          "base_uri": "https://localhost:8080/",
          "height": 185
        },
        "outputId": "8fc4e032-5335-4424-95df-059ca32aee21"
      },
      "source": [
        "Loop = range(0,100,10)\n",
        "for i,element in enumerate(Loop):\n",
        "  print(f'element index {i} is {element}')\n"
      ],
      "execution_count": 20,
      "outputs": [
        {
          "output_type": "stream",
          "text": [
            "element index 0 is 0\n",
            "element index 1 is 10\n",
            "element index 2 is 20\n",
            "element index 3 is 30\n",
            "element index 4 is 40\n",
            "element index 5 is 50\n",
            "element index 6 is 60\n",
            "element index 7 is 70\n",
            "element index 8 is 80\n",
            "element index 9 is 90\n"
          ],
          "name": "stdout"
        }
      ]
    },
    {
      "cell_type": "code",
      "metadata": {
        "id": "whb8o6sIMwIu",
        "colab_type": "code",
        "colab": {
          "base_uri": "https://localhost:8080/",
          "height": 185
        },
        "outputId": "8f422fee-6e7b-4cb1-bd8a-3413d9e01bda"
      },
      "source": [
        "for element in Loop:\n",
        "  print(f'element = {element}')\n"
      ],
      "execution_count": 21,
      "outputs": [
        {
          "output_type": "stream",
          "text": [
            "element = 0\n",
            "element = 10\n",
            "element = 20\n",
            "element = 30\n",
            "element = 40\n",
            "element = 50\n",
            "element = 60\n",
            "element = 70\n",
            "element = 80\n",
            "element = 90\n"
          ],
          "name": "stdout"
        }
      ]
    },
    {
      "cell_type": "code",
      "metadata": {
        "id": "kHBY8W9ZNFDv",
        "colab_type": "code",
        "colab": {
          "base_uri": "https://localhost:8080/",
          "height": 84
        },
        "outputId": "b19c7a60-c78a-46c4-9571-e7f7512e7c5e"
      },
      "source": [
        "\n",
        "lst = range(0,100,10)\n",
        "i = 0\n",
        "element = 0\n",
        "while(element<30):\n",
        "  element  = lst[i]\n",
        "  print(element)\n",
        "  i=i+1"
      ],
      "execution_count": 22,
      "outputs": [
        {
          "output_type": "stream",
          "text": [
            "0\n",
            "10\n",
            "20\n",
            "30\n"
          ],
          "name": "stdout"
        }
      ]
    },
    {
      "cell_type": "code",
      "metadata": {
        "id": "YKy9gYkoNMzc",
        "colab_type": "code",
        "colab": {}
      },
      "source": [
        "%reset -f\n",
        "import pandas as pd"
      ],
      "execution_count": 24,
      "outputs": []
    },
    {
      "cell_type": "code",
      "metadata": {
        "id": "4XnTp0i2NP8G",
        "colab_type": "code",
        "colab": {
          "base_uri": "https://localhost:8080/",
          "height": 106
        },
        "outputId": "ab650f5d-c2e7-4535-8027-ed5ce0861b77"
      },
      "source": [
        "List = [2, 3, 5, 7, 11, 13, 17, 19, 23, 29, 31 ]\n",
        "\n",
        "df = pd.DataFrame(List,columns = ['Prime'])\n",
        "\n",
        "\n",
        "df.head(2)"
      ],
      "execution_count": 25,
      "outputs": [
        {
          "output_type": "execute_result",
          "data": {
            "text/html": [
              "<div>\n",
              "<style scoped>\n",
              "    .dataframe tbody tr th:only-of-type {\n",
              "        vertical-align: middle;\n",
              "    }\n",
              "\n",
              "    .dataframe tbody tr th {\n",
              "        vertical-align: top;\n",
              "    }\n",
              "\n",
              "    .dataframe thead th {\n",
              "        text-align: right;\n",
              "    }\n",
              "</style>\n",
              "<table border=\"1\" class=\"dataframe\">\n",
              "  <thead>\n",
              "    <tr style=\"text-align: right;\">\n",
              "      <th></th>\n",
              "      <th>Prime</th>\n",
              "    </tr>\n",
              "  </thead>\n",
              "  <tbody>\n",
              "    <tr>\n",
              "      <th>0</th>\n",
              "      <td>2</td>\n",
              "    </tr>\n",
              "    <tr>\n",
              "      <th>1</th>\n",
              "      <td>3</td>\n",
              "    </tr>\n",
              "  </tbody>\n",
              "</table>\n",
              "</div>"
            ],
            "text/plain": [
              "   Prime\n",
              "0      2\n",
              "1      3"
            ]
          },
          "metadata": {
            "tags": []
          },
          "execution_count": 25
        }
      ]
    },
    {
      "cell_type": "code",
      "metadata": {
        "id": "TCzrqgN1O5Lo",
        "colab_type": "code",
        "colab": {
          "base_uri": "https://localhost:8080/",
          "height": 343
        },
        "outputId": "7e8b3334-f8d7-4531-ad91-c8f16152a23b"
      },
      "source": [
        "df['prime_power_7'] = df['Prime'] ** 7\n",
        "df.head(10)"
      ],
      "execution_count": 26,
      "outputs": [
        {
          "output_type": "execute_result",
          "data": {
            "text/html": [
              "<div>\n",
              "<style scoped>\n",
              "    .dataframe tbody tr th:only-of-type {\n",
              "        vertical-align: middle;\n",
              "    }\n",
              "\n",
              "    .dataframe tbody tr th {\n",
              "        vertical-align: top;\n",
              "    }\n",
              "\n",
              "    .dataframe thead th {\n",
              "        text-align: right;\n",
              "    }\n",
              "</style>\n",
              "<table border=\"1\" class=\"dataframe\">\n",
              "  <thead>\n",
              "    <tr style=\"text-align: right;\">\n",
              "      <th></th>\n",
              "      <th>Prime</th>\n",
              "      <th>prime_power_7</th>\n",
              "    </tr>\n",
              "  </thead>\n",
              "  <tbody>\n",
              "    <tr>\n",
              "      <th>0</th>\n",
              "      <td>2</td>\n",
              "      <td>128</td>\n",
              "    </tr>\n",
              "    <tr>\n",
              "      <th>1</th>\n",
              "      <td>3</td>\n",
              "      <td>2187</td>\n",
              "    </tr>\n",
              "    <tr>\n",
              "      <th>2</th>\n",
              "      <td>5</td>\n",
              "      <td>78125</td>\n",
              "    </tr>\n",
              "    <tr>\n",
              "      <th>3</th>\n",
              "      <td>7</td>\n",
              "      <td>823543</td>\n",
              "    </tr>\n",
              "    <tr>\n",
              "      <th>4</th>\n",
              "      <td>11</td>\n",
              "      <td>19487171</td>\n",
              "    </tr>\n",
              "    <tr>\n",
              "      <th>5</th>\n",
              "      <td>13</td>\n",
              "      <td>62748517</td>\n",
              "    </tr>\n",
              "    <tr>\n",
              "      <th>6</th>\n",
              "      <td>17</td>\n",
              "      <td>410338673</td>\n",
              "    </tr>\n",
              "    <tr>\n",
              "      <th>7</th>\n",
              "      <td>19</td>\n",
              "      <td>893871739</td>\n",
              "    </tr>\n",
              "    <tr>\n",
              "      <th>8</th>\n",
              "      <td>23</td>\n",
              "      <td>3404825447</td>\n",
              "    </tr>\n",
              "    <tr>\n",
              "      <th>9</th>\n",
              "      <td>29</td>\n",
              "      <td>17249876309</td>\n",
              "    </tr>\n",
              "  </tbody>\n",
              "</table>\n",
              "</div>"
            ],
            "text/plain": [
              "   Prime  prime_power_7\n",
              "0      2            128\n",
              "1      3           2187\n",
              "2      5          78125\n",
              "3      7         823543\n",
              "4     11       19487171\n",
              "5     13       62748517\n",
              "6     17      410338673\n",
              "7     19      893871739\n",
              "8     23     3404825447\n",
              "9     29    17249876309"
            ]
          },
          "metadata": {
            "tags": []
          },
          "execution_count": 26
        }
      ]
    },
    {
      "cell_type": "code",
      "metadata": {
        "id": "3ZMw4Zb4O8NR",
        "colab_type": "code",
        "colab": {
          "base_uri": "https://localhost:8080/",
          "height": 343
        },
        "outputId": "560aa0b2-a381-44ac-b0e9-066e15f8796c"
      },
      "source": [
        "df['mdlo'] = df['prime_power_7'] % 16\n",
        "df.head(10)"
      ],
      "execution_count": 27,
      "outputs": [
        {
          "output_type": "execute_result",
          "data": {
            "text/html": [
              "<div>\n",
              "<style scoped>\n",
              "    .dataframe tbody tr th:only-of-type {\n",
              "        vertical-align: middle;\n",
              "    }\n",
              "\n",
              "    .dataframe tbody tr th {\n",
              "        vertical-align: top;\n",
              "    }\n",
              "\n",
              "    .dataframe thead th {\n",
              "        text-align: right;\n",
              "    }\n",
              "</style>\n",
              "<table border=\"1\" class=\"dataframe\">\n",
              "  <thead>\n",
              "    <tr style=\"text-align: right;\">\n",
              "      <th></th>\n",
              "      <th>Prime</th>\n",
              "      <th>prime_power_7</th>\n",
              "      <th>mdlo</th>\n",
              "    </tr>\n",
              "  </thead>\n",
              "  <tbody>\n",
              "    <tr>\n",
              "      <th>0</th>\n",
              "      <td>2</td>\n",
              "      <td>128</td>\n",
              "      <td>0</td>\n",
              "    </tr>\n",
              "    <tr>\n",
              "      <th>1</th>\n",
              "      <td>3</td>\n",
              "      <td>2187</td>\n",
              "      <td>11</td>\n",
              "    </tr>\n",
              "    <tr>\n",
              "      <th>2</th>\n",
              "      <td>5</td>\n",
              "      <td>78125</td>\n",
              "      <td>13</td>\n",
              "    </tr>\n",
              "    <tr>\n",
              "      <th>3</th>\n",
              "      <td>7</td>\n",
              "      <td>823543</td>\n",
              "      <td>7</td>\n",
              "    </tr>\n",
              "    <tr>\n",
              "      <th>4</th>\n",
              "      <td>11</td>\n",
              "      <td>19487171</td>\n",
              "      <td>3</td>\n",
              "    </tr>\n",
              "    <tr>\n",
              "      <th>5</th>\n",
              "      <td>13</td>\n",
              "      <td>62748517</td>\n",
              "      <td>5</td>\n",
              "    </tr>\n",
              "    <tr>\n",
              "      <th>6</th>\n",
              "      <td>17</td>\n",
              "      <td>410338673</td>\n",
              "      <td>1</td>\n",
              "    </tr>\n",
              "    <tr>\n",
              "      <th>7</th>\n",
              "      <td>19</td>\n",
              "      <td>893871739</td>\n",
              "      <td>11</td>\n",
              "    </tr>\n",
              "    <tr>\n",
              "      <th>8</th>\n",
              "      <td>23</td>\n",
              "      <td>3404825447</td>\n",
              "      <td>7</td>\n",
              "    </tr>\n",
              "    <tr>\n",
              "      <th>9</th>\n",
              "      <td>29</td>\n",
              "      <td>17249876309</td>\n",
              "      <td>5</td>\n",
              "    </tr>\n",
              "  </tbody>\n",
              "</table>\n",
              "</div>"
            ],
            "text/plain": [
              "   Prime  prime_power_7  mdlo\n",
              "0      2            128     0\n",
              "1      3           2187    11\n",
              "2      5          78125    13\n",
              "3      7         823543     7\n",
              "4     11       19487171     3\n",
              "5     13       62748517     5\n",
              "6     17      410338673     1\n",
              "7     19      893871739    11\n",
              "8     23     3404825447     7\n",
              "9     29    17249876309     5"
            ]
          },
          "metadata": {
            "tags": []
          },
          "execution_count": 27
        }
      ]
    },
    {
      "cell_type": "code",
      "metadata": {
        "id": "XFmZK8hcO-tH",
        "colab_type": "code",
        "colab": {
          "base_uri": "https://localhost:8080/",
          "height": 254
        },
        "outputId": "485b15c3-ed61-4cd2-c84f-bc68ac559912"
      },
      "source": [
        "df[df['mdlo']<8]"
      ],
      "execution_count": 28,
      "outputs": [
        {
          "output_type": "execute_result",
          "data": {
            "text/html": [
              "<div>\n",
              "<style scoped>\n",
              "    .dataframe tbody tr th:only-of-type {\n",
              "        vertical-align: middle;\n",
              "    }\n",
              "\n",
              "    .dataframe tbody tr th {\n",
              "        vertical-align: top;\n",
              "    }\n",
              "\n",
              "    .dataframe thead th {\n",
              "        text-align: right;\n",
              "    }\n",
              "</style>\n",
              "<table border=\"1\" class=\"dataframe\">\n",
              "  <thead>\n",
              "    <tr style=\"text-align: right;\">\n",
              "      <th></th>\n",
              "      <th>Prime</th>\n",
              "      <th>prime_power_7</th>\n",
              "      <th>mdlo</th>\n",
              "    </tr>\n",
              "  </thead>\n",
              "  <tbody>\n",
              "    <tr>\n",
              "      <th>0</th>\n",
              "      <td>2</td>\n",
              "      <td>128</td>\n",
              "      <td>0</td>\n",
              "    </tr>\n",
              "    <tr>\n",
              "      <th>3</th>\n",
              "      <td>7</td>\n",
              "      <td>823543</td>\n",
              "      <td>7</td>\n",
              "    </tr>\n",
              "    <tr>\n",
              "      <th>4</th>\n",
              "      <td>11</td>\n",
              "      <td>19487171</td>\n",
              "      <td>3</td>\n",
              "    </tr>\n",
              "    <tr>\n",
              "      <th>5</th>\n",
              "      <td>13</td>\n",
              "      <td>62748517</td>\n",
              "      <td>5</td>\n",
              "    </tr>\n",
              "    <tr>\n",
              "      <th>6</th>\n",
              "      <td>17</td>\n",
              "      <td>410338673</td>\n",
              "      <td>1</td>\n",
              "    </tr>\n",
              "    <tr>\n",
              "      <th>8</th>\n",
              "      <td>23</td>\n",
              "      <td>3404825447</td>\n",
              "      <td>7</td>\n",
              "    </tr>\n",
              "    <tr>\n",
              "      <th>9</th>\n",
              "      <td>29</td>\n",
              "      <td>17249876309</td>\n",
              "      <td>5</td>\n",
              "    </tr>\n",
              "  </tbody>\n",
              "</table>\n",
              "</div>"
            ],
            "text/plain": [
              "   Prime  prime_power_7  mdlo\n",
              "0      2            128     0\n",
              "3      7         823543     7\n",
              "4     11       19487171     3\n",
              "5     13       62748517     5\n",
              "6     17      410338673     1\n",
              "8     23     3404825447     7\n",
              "9     29    17249876309     5"
            ]
          },
          "metadata": {
            "tags": []
          },
          "execution_count": 28
        }
      ]
    },
    {
      "cell_type": "code",
      "metadata": {
        "id": "Fx_HSNjfPAtw",
        "colab_type": "code",
        "colab": {}
      },
      "source": [
        ""
      ],
      "execution_count": null,
      "outputs": []
    }
  ]
}